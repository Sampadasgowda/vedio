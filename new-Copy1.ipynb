{
 "cells": [
  {
   "cell_type": "code",
   "execution_count": 1,
   "id": "8cd66056",
   "metadata": {},
   "outputs": [
    {
     "name": "stdout",
     "output_type": "stream",
     "text": [
      "MoviePy - Writing audio in 1.wav\n"
     ]
    },
    {
     "name": "stderr",
     "output_type": "stream",
     "text": [
      "                                                                                                                       "
     ]
    },
    {
     "name": "stdout",
     "output_type": "stream",
     "text": [
      "MoviePy - Done.\n"
     ]
    },
    {
     "name": "stderr",
     "output_type": "stream",
     "text": [
      "\r"
     ]
    },
    {
     "name": "stdout",
     "output_type": "stream",
     "text": [
      "\n",
      "The Kannada text from the video is: \n",
      "\n",
      "ನಿಮ್ಮನ್ನ ತಡೆದಿರುವ ಯಾರು\n",
      "\n",
      "The translated text to English is: \n",
      "\n",
      "Who is the one who stops yours\n"
     ]
    }
   ],
   "source": [
    "import speech_recognition as sr\n",
    "from googletrans import Translator\n",
    "import moviepy.editor as mp\n",
    "\n",
    "# Load the video\n",
    "video = mp.VideoFileClip(\"1.mp4\")\n",
    "\n",
    "# Extract the audio from the video\n",
    "audio_file = video.audio\n",
    "audio_file.write_audiofile(\"1.wav\")\n",
    "\n",
    "# Initialize recognizer\n",
    "r = sr.Recognizer()\n",
    "\n",
    "# Load the audio file\n",
    "with sr.AudioFile(\"1.wav\") as source:\n",
    "    audio_data = r.record(source)\n",
    "\n",
    "# Recognize speech (Kannada) from the audio\n",
    "try:\n",
    "    kannada_text = r.recognize_google(audio_data, language=\"kn-IN\")\n",
    "    print(\"\\nThe Kannada text from the video is: \\n\")\n",
    "    print(kannada_text)\n",
    "except sr.UnknownValueError:\n",
    "    print(\"Speech recognition could not understand the Kannada audio\")\n",
    "except sr.RequestError as e:\n",
    "    print(\"Could not request results from Google Speech Recognition service; {0}\".format(e))\n",
    "\n",
    "# Translate Kannada text to English\n",
    "translator = Translator()\n",
    "translated_text = translator.translate(kannada_text, src='kn', dest='en').text\n",
    "\n",
    "# Output the translated text\n",
    "print(\"\\nThe translated text to English is: \\n\")\n",
    "print(translated_text)"
   ]
  },
  {
   "cell_type": "code",
   "execution_count": null,
   "id": "346d7a5e",
   "metadata": {},
   "outputs": [],
   "source": []
  }
 ],
 "metadata": {
  "kernelspec": {
   "display_name": "Python 3 (ipykernel)",
   "language": "python",
   "name": "python3"
  },
  "language_info": {
   "codemirror_mode": {
    "name": "ipython",
    "version": 3
   },
   "file_extension": ".py",
   "mimetype": "text/x-python",
   "name": "python",
   "nbconvert_exporter": "python",
   "pygments_lexer": "ipython3",
   "version": "3.9.12"
  }
 },
 "nbformat": 4,
 "nbformat_minor": 5
}
